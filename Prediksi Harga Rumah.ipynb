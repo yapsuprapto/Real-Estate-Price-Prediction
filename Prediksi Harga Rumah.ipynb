{
 "cells": [
  {
   "cell_type": "markdown",
   "metadata": {},
   "source": [
    "## HOUSE PRICING PREDICT\n",
    "- Dalam kasus ini, kita akan memprediksi harga rumah dengan kriteria berikut:\n",
    "- Terdapat 4 kamar\n",
    "- Terdapat 3 kamar mandi\n",
    "- Dengan ukuran 2570 Sqft_living\n",
    "- Dengan grade 8\n",
    "- 2 Lantai\n",
    "- Tahun pembelian 2005"
   ]
  },
  {
   "cell_type": "code",
   "execution_count": 137,
   "metadata": {},
   "outputs": [],
   "source": [
    "import pandas as pd\n",
    "import numpy as np\n",
    "import matplotlib.pyplot as plt\n",
    "import seaborn as sns\n",
    "import statsmodels.api as sm\n",
    "sns.set()\n",
    "from sklearn.linear_model import LinearRegression\n",
    "from sklearn.model_selection import train_test_split"
   ]
  },
  {
   "cell_type": "code",
   "execution_count": 84,
   "metadata": {},
   "outputs": [
    {
     "data": {
      "text/html": [
       "<div>\n",
       "<style scoped>\n",
       "    .dataframe tbody tr th:only-of-type {\n",
       "        vertical-align: middle;\n",
       "    }\n",
       "\n",
       "    .dataframe tbody tr th {\n",
       "        vertical-align: top;\n",
       "    }\n",
       "\n",
       "    .dataframe thead th {\n",
       "        text-align: right;\n",
       "    }\n",
       "</style>\n",
       "<table border=\"1\" class=\"dataframe\">\n",
       "  <thead>\n",
       "    <tr style=\"text-align: right;\">\n",
       "      <th></th>\n",
       "      <th>id</th>\n",
       "      <th>date</th>\n",
       "      <th>price</th>\n",
       "      <th>bedrooms</th>\n",
       "      <th>bathrooms</th>\n",
       "      <th>sqft_living</th>\n",
       "      <th>sqft_lot</th>\n",
       "      <th>floors</th>\n",
       "      <th>waterfront</th>\n",
       "      <th>view</th>\n",
       "      <th>...</th>\n",
       "      <th>grade</th>\n",
       "      <th>sqft_above</th>\n",
       "      <th>sqft_basement</th>\n",
       "      <th>yr_built</th>\n",
       "      <th>yr_renovated</th>\n",
       "      <th>zipcode</th>\n",
       "      <th>lat</th>\n",
       "      <th>long</th>\n",
       "      <th>sqft_living15</th>\n",
       "      <th>sqft_lot15</th>\n",
       "    </tr>\n",
       "  </thead>\n",
       "  <tbody>\n",
       "    <tr>\n",
       "      <th>0</th>\n",
       "      <td>7129300520</td>\n",
       "      <td>20141013T000000</td>\n",
       "      <td>221900</td>\n",
       "      <td>3</td>\n",
       "      <td>1.00</td>\n",
       "      <td>1180</td>\n",
       "      <td>5650</td>\n",
       "      <td>1.0</td>\n",
       "      <td>0</td>\n",
       "      <td>0</td>\n",
       "      <td>...</td>\n",
       "      <td>7</td>\n",
       "      <td>1180</td>\n",
       "      <td>0</td>\n",
       "      <td>1955</td>\n",
       "      <td>0</td>\n",
       "      <td>98178</td>\n",
       "      <td>47.5112</td>\n",
       "      <td>-122.257</td>\n",
       "      <td>1340</td>\n",
       "      <td>5650</td>\n",
       "    </tr>\n",
       "    <tr>\n",
       "      <th>1</th>\n",
       "      <td>6414100192</td>\n",
       "      <td>20141209T000000</td>\n",
       "      <td>538000</td>\n",
       "      <td>3</td>\n",
       "      <td>2.25</td>\n",
       "      <td>2570</td>\n",
       "      <td>7242</td>\n",
       "      <td>2.0</td>\n",
       "      <td>0</td>\n",
       "      <td>0</td>\n",
       "      <td>...</td>\n",
       "      <td>7</td>\n",
       "      <td>2170</td>\n",
       "      <td>400</td>\n",
       "      <td>1951</td>\n",
       "      <td>1991</td>\n",
       "      <td>98125</td>\n",
       "      <td>47.7210</td>\n",
       "      <td>-122.319</td>\n",
       "      <td>1690</td>\n",
       "      <td>7639</td>\n",
       "    </tr>\n",
       "    <tr>\n",
       "      <th>2</th>\n",
       "      <td>5631500400</td>\n",
       "      <td>20150225T000000</td>\n",
       "      <td>180000</td>\n",
       "      <td>2</td>\n",
       "      <td>1.00</td>\n",
       "      <td>770</td>\n",
       "      <td>10000</td>\n",
       "      <td>1.0</td>\n",
       "      <td>0</td>\n",
       "      <td>0</td>\n",
       "      <td>...</td>\n",
       "      <td>6</td>\n",
       "      <td>770</td>\n",
       "      <td>0</td>\n",
       "      <td>1933</td>\n",
       "      <td>0</td>\n",
       "      <td>98028</td>\n",
       "      <td>47.7379</td>\n",
       "      <td>-122.233</td>\n",
       "      <td>2720</td>\n",
       "      <td>8062</td>\n",
       "    </tr>\n",
       "    <tr>\n",
       "      <th>3</th>\n",
       "      <td>2487200875</td>\n",
       "      <td>20141209T000000</td>\n",
       "      <td>604000</td>\n",
       "      <td>4</td>\n",
       "      <td>3.00</td>\n",
       "      <td>1960</td>\n",
       "      <td>5000</td>\n",
       "      <td>1.0</td>\n",
       "      <td>0</td>\n",
       "      <td>0</td>\n",
       "      <td>...</td>\n",
       "      <td>7</td>\n",
       "      <td>1050</td>\n",
       "      <td>910</td>\n",
       "      <td>1965</td>\n",
       "      <td>0</td>\n",
       "      <td>98136</td>\n",
       "      <td>47.5208</td>\n",
       "      <td>-122.393</td>\n",
       "      <td>1360</td>\n",
       "      <td>5000</td>\n",
       "    </tr>\n",
       "    <tr>\n",
       "      <th>4</th>\n",
       "      <td>1954400510</td>\n",
       "      <td>20150218T000000</td>\n",
       "      <td>510000</td>\n",
       "      <td>3</td>\n",
       "      <td>2.00</td>\n",
       "      <td>1680</td>\n",
       "      <td>8080</td>\n",
       "      <td>1.0</td>\n",
       "      <td>0</td>\n",
       "      <td>0</td>\n",
       "      <td>...</td>\n",
       "      <td>8</td>\n",
       "      <td>1680</td>\n",
       "      <td>0</td>\n",
       "      <td>1987</td>\n",
       "      <td>0</td>\n",
       "      <td>98074</td>\n",
       "      <td>47.6168</td>\n",
       "      <td>-122.045</td>\n",
       "      <td>1800</td>\n",
       "      <td>7503</td>\n",
       "    </tr>\n",
       "    <tr>\n",
       "      <th>...</th>\n",
       "      <td>...</td>\n",
       "      <td>...</td>\n",
       "      <td>...</td>\n",
       "      <td>...</td>\n",
       "      <td>...</td>\n",
       "      <td>...</td>\n",
       "      <td>...</td>\n",
       "      <td>...</td>\n",
       "      <td>...</td>\n",
       "      <td>...</td>\n",
       "      <td>...</td>\n",
       "      <td>...</td>\n",
       "      <td>...</td>\n",
       "      <td>...</td>\n",
       "      <td>...</td>\n",
       "      <td>...</td>\n",
       "      <td>...</td>\n",
       "      <td>...</td>\n",
       "      <td>...</td>\n",
       "      <td>...</td>\n",
       "      <td>...</td>\n",
       "    </tr>\n",
       "    <tr>\n",
       "      <th>21608</th>\n",
       "      <td>263000018</td>\n",
       "      <td>20140521T000000</td>\n",
       "      <td>360000</td>\n",
       "      <td>3</td>\n",
       "      <td>2.50</td>\n",
       "      <td>1530</td>\n",
       "      <td>1131</td>\n",
       "      <td>3.0</td>\n",
       "      <td>0</td>\n",
       "      <td>0</td>\n",
       "      <td>...</td>\n",
       "      <td>8</td>\n",
       "      <td>1530</td>\n",
       "      <td>0</td>\n",
       "      <td>2009</td>\n",
       "      <td>0</td>\n",
       "      <td>98103</td>\n",
       "      <td>47.6993</td>\n",
       "      <td>-122.346</td>\n",
       "      <td>1530</td>\n",
       "      <td>1509</td>\n",
       "    </tr>\n",
       "    <tr>\n",
       "      <th>21609</th>\n",
       "      <td>6600060120</td>\n",
       "      <td>20150223T000000</td>\n",
       "      <td>400000</td>\n",
       "      <td>4</td>\n",
       "      <td>2.50</td>\n",
       "      <td>2310</td>\n",
       "      <td>5813</td>\n",
       "      <td>2.0</td>\n",
       "      <td>0</td>\n",
       "      <td>0</td>\n",
       "      <td>...</td>\n",
       "      <td>8</td>\n",
       "      <td>2310</td>\n",
       "      <td>0</td>\n",
       "      <td>2014</td>\n",
       "      <td>0</td>\n",
       "      <td>98146</td>\n",
       "      <td>47.5107</td>\n",
       "      <td>-122.362</td>\n",
       "      <td>1830</td>\n",
       "      <td>7200</td>\n",
       "    </tr>\n",
       "    <tr>\n",
       "      <th>21610</th>\n",
       "      <td>1523300141</td>\n",
       "      <td>20140623T000000</td>\n",
       "      <td>402101</td>\n",
       "      <td>2</td>\n",
       "      <td>0.75</td>\n",
       "      <td>1020</td>\n",
       "      <td>1350</td>\n",
       "      <td>2.0</td>\n",
       "      <td>0</td>\n",
       "      <td>0</td>\n",
       "      <td>...</td>\n",
       "      <td>7</td>\n",
       "      <td>1020</td>\n",
       "      <td>0</td>\n",
       "      <td>2009</td>\n",
       "      <td>0</td>\n",
       "      <td>98144</td>\n",
       "      <td>47.5944</td>\n",
       "      <td>-122.299</td>\n",
       "      <td>1020</td>\n",
       "      <td>2007</td>\n",
       "    </tr>\n",
       "    <tr>\n",
       "      <th>21611</th>\n",
       "      <td>291310100</td>\n",
       "      <td>20150116T000000</td>\n",
       "      <td>400000</td>\n",
       "      <td>3</td>\n",
       "      <td>2.50</td>\n",
       "      <td>1600</td>\n",
       "      <td>2388</td>\n",
       "      <td>2.0</td>\n",
       "      <td>0</td>\n",
       "      <td>0</td>\n",
       "      <td>...</td>\n",
       "      <td>8</td>\n",
       "      <td>1600</td>\n",
       "      <td>0</td>\n",
       "      <td>2004</td>\n",
       "      <td>0</td>\n",
       "      <td>98027</td>\n",
       "      <td>47.5345</td>\n",
       "      <td>-122.069</td>\n",
       "      <td>1410</td>\n",
       "      <td>1287</td>\n",
       "    </tr>\n",
       "    <tr>\n",
       "      <th>21612</th>\n",
       "      <td>1523300157</td>\n",
       "      <td>20141015T000000</td>\n",
       "      <td>325000</td>\n",
       "      <td>2</td>\n",
       "      <td>0.75</td>\n",
       "      <td>1020</td>\n",
       "      <td>1076</td>\n",
       "      <td>2.0</td>\n",
       "      <td>0</td>\n",
       "      <td>0</td>\n",
       "      <td>...</td>\n",
       "      <td>7</td>\n",
       "      <td>1020</td>\n",
       "      <td>0</td>\n",
       "      <td>2008</td>\n",
       "      <td>0</td>\n",
       "      <td>98144</td>\n",
       "      <td>47.5941</td>\n",
       "      <td>-122.299</td>\n",
       "      <td>1020</td>\n",
       "      <td>1357</td>\n",
       "    </tr>\n",
       "  </tbody>\n",
       "</table>\n",
       "<p>21613 rows × 21 columns</p>\n",
       "</div>"
      ],
      "text/plain": [
       "               id             date   price  bedrooms  bathrooms  sqft_living  \\\n",
       "0      7129300520  20141013T000000  221900         3       1.00         1180   \n",
       "1      6414100192  20141209T000000  538000         3       2.25         2570   \n",
       "2      5631500400  20150225T000000  180000         2       1.00          770   \n",
       "3      2487200875  20141209T000000  604000         4       3.00         1960   \n",
       "4      1954400510  20150218T000000  510000         3       2.00         1680   \n",
       "...           ...              ...     ...       ...        ...          ...   \n",
       "21608   263000018  20140521T000000  360000         3       2.50         1530   \n",
       "21609  6600060120  20150223T000000  400000         4       2.50         2310   \n",
       "21610  1523300141  20140623T000000  402101         2       0.75         1020   \n",
       "21611   291310100  20150116T000000  400000         3       2.50         1600   \n",
       "21612  1523300157  20141015T000000  325000         2       0.75         1020   \n",
       "\n",
       "       sqft_lot  floors  waterfront  view  ...  grade  sqft_above  \\\n",
       "0          5650     1.0           0     0  ...      7        1180   \n",
       "1          7242     2.0           0     0  ...      7        2170   \n",
       "2         10000     1.0           0     0  ...      6         770   \n",
       "3          5000     1.0           0     0  ...      7        1050   \n",
       "4          8080     1.0           0     0  ...      8        1680   \n",
       "...         ...     ...         ...   ...  ...    ...         ...   \n",
       "21608      1131     3.0           0     0  ...      8        1530   \n",
       "21609      5813     2.0           0     0  ...      8        2310   \n",
       "21610      1350     2.0           0     0  ...      7        1020   \n",
       "21611      2388     2.0           0     0  ...      8        1600   \n",
       "21612      1076     2.0           0     0  ...      7        1020   \n",
       "\n",
       "       sqft_basement  yr_built  yr_renovated  zipcode      lat     long  \\\n",
       "0                  0      1955             0    98178  47.5112 -122.257   \n",
       "1                400      1951          1991    98125  47.7210 -122.319   \n",
       "2                  0      1933             0    98028  47.7379 -122.233   \n",
       "3                910      1965             0    98136  47.5208 -122.393   \n",
       "4                  0      1987             0    98074  47.6168 -122.045   \n",
       "...              ...       ...           ...      ...      ...      ...   \n",
       "21608              0      2009             0    98103  47.6993 -122.346   \n",
       "21609              0      2014             0    98146  47.5107 -122.362   \n",
       "21610              0      2009             0    98144  47.5944 -122.299   \n",
       "21611              0      2004             0    98027  47.5345 -122.069   \n",
       "21612              0      2008             0    98144  47.5941 -122.299   \n",
       "\n",
       "       sqft_living15  sqft_lot15  \n",
       "0               1340        5650  \n",
       "1               1690        7639  \n",
       "2               2720        8062  \n",
       "3               1360        5000  \n",
       "4               1800        7503  \n",
       "...              ...         ...  \n",
       "21608           1530        1509  \n",
       "21609           1830        7200  \n",
       "21610           1020        2007  \n",
       "21611           1410        1287  \n",
       "21612           1020        1357  \n",
       "\n",
       "[21613 rows x 21 columns]"
      ]
     },
     "execution_count": 84,
     "metadata": {},
     "output_type": "execute_result"
    }
   ],
   "source": [
    "raw_data = pd.read_csv('https://raw.githubusercontent.com/rashida048/Datasets/master/home_data.csv')\n",
    "raw_data"
   ]
  },
  {
   "cell_type": "code",
   "execution_count": 85,
   "metadata": {},
   "outputs": [
    {
     "data": {
      "text/html": [
       "<div>\n",
       "<style scoped>\n",
       "    .dataframe tbody tr th:only-of-type {\n",
       "        vertical-align: middle;\n",
       "    }\n",
       "\n",
       "    .dataframe tbody tr th {\n",
       "        vertical-align: top;\n",
       "    }\n",
       "\n",
       "    .dataframe thead th {\n",
       "        text-align: right;\n",
       "    }\n",
       "</style>\n",
       "<table border=\"1\" class=\"dataframe\">\n",
       "  <thead>\n",
       "    <tr style=\"text-align: right;\">\n",
       "      <th></th>\n",
       "      <th>price</th>\n",
       "      <th>bedrooms</th>\n",
       "      <th>bathrooms</th>\n",
       "      <th>sqft_living</th>\n",
       "      <th>floors</th>\n",
       "      <th>grade</th>\n",
       "      <th>yr_built</th>\n",
       "    </tr>\n",
       "  </thead>\n",
       "  <tbody>\n",
       "    <tr>\n",
       "      <th>0</th>\n",
       "      <td>221900</td>\n",
       "      <td>3</td>\n",
       "      <td>1.00</td>\n",
       "      <td>1180</td>\n",
       "      <td>1.0</td>\n",
       "      <td>7</td>\n",
       "      <td>1955</td>\n",
       "    </tr>\n",
       "    <tr>\n",
       "      <th>1</th>\n",
       "      <td>538000</td>\n",
       "      <td>3</td>\n",
       "      <td>2.25</td>\n",
       "      <td>2570</td>\n",
       "      <td>2.0</td>\n",
       "      <td>7</td>\n",
       "      <td>1951</td>\n",
       "    </tr>\n",
       "    <tr>\n",
       "      <th>2</th>\n",
       "      <td>180000</td>\n",
       "      <td>2</td>\n",
       "      <td>1.00</td>\n",
       "      <td>770</td>\n",
       "      <td>1.0</td>\n",
       "      <td>6</td>\n",
       "      <td>1933</td>\n",
       "    </tr>\n",
       "    <tr>\n",
       "      <th>3</th>\n",
       "      <td>604000</td>\n",
       "      <td>4</td>\n",
       "      <td>3.00</td>\n",
       "      <td>1960</td>\n",
       "      <td>1.0</td>\n",
       "      <td>7</td>\n",
       "      <td>1965</td>\n",
       "    </tr>\n",
       "    <tr>\n",
       "      <th>4</th>\n",
       "      <td>510000</td>\n",
       "      <td>3</td>\n",
       "      <td>2.00</td>\n",
       "      <td>1680</td>\n",
       "      <td>1.0</td>\n",
       "      <td>8</td>\n",
       "      <td>1987</td>\n",
       "    </tr>\n",
       "    <tr>\n",
       "      <th>5</th>\n",
       "      <td>1225000</td>\n",
       "      <td>4</td>\n",
       "      <td>4.50</td>\n",
       "      <td>5420</td>\n",
       "      <td>1.0</td>\n",
       "      <td>11</td>\n",
       "      <td>2001</td>\n",
       "    </tr>\n",
       "  </tbody>\n",
       "</table>\n",
       "</div>"
      ],
      "text/plain": [
       "     price  bedrooms  bathrooms  sqft_living  floors  grade  yr_built\n",
       "0   221900         3       1.00         1180     1.0      7      1955\n",
       "1   538000         3       2.25         2570     2.0      7      1951\n",
       "2   180000         2       1.00          770     1.0      6      1933\n",
       "3   604000         4       3.00         1960     1.0      7      1965\n",
       "4   510000         3       2.00         1680     1.0      8      1987\n",
       "5  1225000         4       4.50         5420     1.0     11      2001"
      ]
     },
     "execution_count": 85,
     "metadata": {},
     "output_type": "execute_result"
    }
   ],
   "source": [
    "#data drop = membuat variable yang tidak ingin digunakan\n",
    "# data head = menampilkan 6 data teratas\n",
    "data = raw_data.copy()\n",
    "data = data.drop(['id','date','sqft_lot','waterfront','view','condition','sqft_above','sqft_basement','yr_renovated','zipcode','lat','long','sqft_living15','sqft_lot15'],axis = 1)\n",
    "data.head(6)"
   ]
  },
  {
   "cell_type": "code",
   "execution_count": 86,
   "metadata": {},
   "outputs": [
    {
     "data": {
      "text/plain": [
       "(21613, 7)"
      ]
     },
     "execution_count": 86,
     "metadata": {},
     "output_type": "execute_result"
    }
   ],
   "source": [
    "#Mengetahui jumlah kolom dan baris dari data\n",
    "#Data kita mempunya 7 kolom (features) dengan 21613 baris\n",
    "data.shape"
   ]
  },
  {
   "cell_type": "code",
   "execution_count": 87,
   "metadata": {},
   "outputs": [
    {
     "name": "stdout",
     "output_type": "stream",
     "text": [
      "<class 'pandas.core.frame.DataFrame'>\n",
      "RangeIndex: 21613 entries, 0 to 21612\n",
      "Data columns (total 7 columns):\n",
      " #   Column       Non-Null Count  Dtype  \n",
      "---  ------       --------------  -----  \n",
      " 0   price        21613 non-null  int64  \n",
      " 1   bedrooms     21613 non-null  int64  \n",
      " 2   bathrooms    21613 non-null  float64\n",
      " 3   sqft_living  21613 non-null  int64  \n",
      " 4   floors       21613 non-null  float64\n",
      " 5   grade        21613 non-null  int64  \n",
      " 6   yr_built     21613 non-null  int64  \n",
      "dtypes: float64(2), int64(5)\n",
      "memory usage: 1.2 MB\n"
     ]
    }
   ],
   "source": [
    "data.info()"
   ]
  },
  {
   "cell_type": "code",
   "execution_count": 88,
   "metadata": {},
   "outputs": [
    {
     "data": {
      "text/html": [
       "<div>\n",
       "<style scoped>\n",
       "    .dataframe tbody tr th:only-of-type {\n",
       "        vertical-align: middle;\n",
       "    }\n",
       "\n",
       "    .dataframe tbody tr th {\n",
       "        vertical-align: top;\n",
       "    }\n",
       "\n",
       "    .dataframe thead th {\n",
       "        text-align: right;\n",
       "    }\n",
       "</style>\n",
       "<table border=\"1\" class=\"dataframe\">\n",
       "  <thead>\n",
       "    <tr style=\"text-align: right;\">\n",
       "      <th></th>\n",
       "      <th>price</th>\n",
       "      <th>bedrooms</th>\n",
       "      <th>bathrooms</th>\n",
       "      <th>sqft_living</th>\n",
       "      <th>floors</th>\n",
       "      <th>grade</th>\n",
       "      <th>yr_built</th>\n",
       "    </tr>\n",
       "  </thead>\n",
       "  <tbody>\n",
       "    <tr>\n",
       "      <th>count</th>\n",
       "      <td>2.161300e+04</td>\n",
       "      <td>21613.000000</td>\n",
       "      <td>21613.000000</td>\n",
       "      <td>21613.000000</td>\n",
       "      <td>21613.000000</td>\n",
       "      <td>21613.000000</td>\n",
       "      <td>21613.000000</td>\n",
       "    </tr>\n",
       "    <tr>\n",
       "      <th>mean</th>\n",
       "      <td>5.400881e+05</td>\n",
       "      <td>3.370842</td>\n",
       "      <td>2.114757</td>\n",
       "      <td>2079.899736</td>\n",
       "      <td>1.494309</td>\n",
       "      <td>7.656873</td>\n",
       "      <td>1971.005136</td>\n",
       "    </tr>\n",
       "    <tr>\n",
       "      <th>std</th>\n",
       "      <td>3.671272e+05</td>\n",
       "      <td>0.930062</td>\n",
       "      <td>0.770163</td>\n",
       "      <td>918.440897</td>\n",
       "      <td>0.539989</td>\n",
       "      <td>1.175459</td>\n",
       "      <td>29.373411</td>\n",
       "    </tr>\n",
       "    <tr>\n",
       "      <th>min</th>\n",
       "      <td>7.500000e+04</td>\n",
       "      <td>0.000000</td>\n",
       "      <td>0.000000</td>\n",
       "      <td>290.000000</td>\n",
       "      <td>1.000000</td>\n",
       "      <td>1.000000</td>\n",
       "      <td>1900.000000</td>\n",
       "    </tr>\n",
       "    <tr>\n",
       "      <th>25%</th>\n",
       "      <td>3.219500e+05</td>\n",
       "      <td>3.000000</td>\n",
       "      <td>1.750000</td>\n",
       "      <td>1427.000000</td>\n",
       "      <td>1.000000</td>\n",
       "      <td>7.000000</td>\n",
       "      <td>1951.000000</td>\n",
       "    </tr>\n",
       "    <tr>\n",
       "      <th>50%</th>\n",
       "      <td>4.500000e+05</td>\n",
       "      <td>3.000000</td>\n",
       "      <td>2.250000</td>\n",
       "      <td>1910.000000</td>\n",
       "      <td>1.500000</td>\n",
       "      <td>7.000000</td>\n",
       "      <td>1975.000000</td>\n",
       "    </tr>\n",
       "    <tr>\n",
       "      <th>75%</th>\n",
       "      <td>6.450000e+05</td>\n",
       "      <td>4.000000</td>\n",
       "      <td>2.500000</td>\n",
       "      <td>2550.000000</td>\n",
       "      <td>2.000000</td>\n",
       "      <td>8.000000</td>\n",
       "      <td>1997.000000</td>\n",
       "    </tr>\n",
       "    <tr>\n",
       "      <th>max</th>\n",
       "      <td>7.700000e+06</td>\n",
       "      <td>33.000000</td>\n",
       "      <td>8.000000</td>\n",
       "      <td>13540.000000</td>\n",
       "      <td>3.500000</td>\n",
       "      <td>13.000000</td>\n",
       "      <td>2015.000000</td>\n",
       "    </tr>\n",
       "  </tbody>\n",
       "</table>\n",
       "</div>"
      ],
      "text/plain": [
       "              price      bedrooms     bathrooms   sqft_living        floors  \\\n",
       "count  2.161300e+04  21613.000000  21613.000000  21613.000000  21613.000000   \n",
       "mean   5.400881e+05      3.370842      2.114757   2079.899736      1.494309   \n",
       "std    3.671272e+05      0.930062      0.770163    918.440897      0.539989   \n",
       "min    7.500000e+04      0.000000      0.000000    290.000000      1.000000   \n",
       "25%    3.219500e+05      3.000000      1.750000   1427.000000      1.000000   \n",
       "50%    4.500000e+05      3.000000      2.250000   1910.000000      1.500000   \n",
       "75%    6.450000e+05      4.000000      2.500000   2550.000000      2.000000   \n",
       "max    7.700000e+06     33.000000      8.000000  13540.000000      3.500000   \n",
       "\n",
       "              grade      yr_built  \n",
       "count  21613.000000  21613.000000  \n",
       "mean       7.656873   1971.005136  \n",
       "std        1.175459     29.373411  \n",
       "min        1.000000   1900.000000  \n",
       "25%        7.000000   1951.000000  \n",
       "50%        7.000000   1975.000000  \n",
       "75%        8.000000   1997.000000  \n",
       "max       13.000000   2015.000000  "
      ]
     },
     "execution_count": 88,
     "metadata": {},
     "output_type": "execute_result"
    }
   ],
   "source": [
    "#Melihat statistical description dari data mulai dari mean, kuartil, standard deviation dll\n",
    "data.describe()"
   ]
  },
  {
   "cell_type": "code",
   "execution_count": 89,
   "metadata": {},
   "outputs": [
    {
     "data": {
      "text/html": [
       "<div>\n",
       "<style scoped>\n",
       "    .dataframe tbody tr th:only-of-type {\n",
       "        vertical-align: middle;\n",
       "    }\n",
       "\n",
       "    .dataframe tbody tr th {\n",
       "        vertical-align: top;\n",
       "    }\n",
       "\n",
       "    .dataframe thead th {\n",
       "        text-align: right;\n",
       "    }\n",
       "</style>\n",
       "<table border=\"1\" class=\"dataframe\">\n",
       "  <thead>\n",
       "    <tr style=\"text-align: right;\">\n",
       "      <th></th>\n",
       "      <th>price</th>\n",
       "      <th>bedrooms</th>\n",
       "      <th>bathrooms</th>\n",
       "      <th>sqft_living</th>\n",
       "      <th>floors</th>\n",
       "      <th>grade</th>\n",
       "      <th>yr_built</th>\n",
       "    </tr>\n",
       "  </thead>\n",
       "  <tbody>\n",
       "    <tr>\n",
       "      <th>count</th>\n",
       "      <td>2.161300e+04</td>\n",
       "      <td>21613.000000</td>\n",
       "      <td>21613.000000</td>\n",
       "      <td>21613.000000</td>\n",
       "      <td>21613.000000</td>\n",
       "      <td>21613.000000</td>\n",
       "      <td>21613.000000</td>\n",
       "    </tr>\n",
       "    <tr>\n",
       "      <th>mean</th>\n",
       "      <td>5.400881e+05</td>\n",
       "      <td>3.370842</td>\n",
       "      <td>2.114757</td>\n",
       "      <td>2079.899736</td>\n",
       "      <td>1.494309</td>\n",
       "      <td>7.656873</td>\n",
       "      <td>1971.005136</td>\n",
       "    </tr>\n",
       "    <tr>\n",
       "      <th>std</th>\n",
       "      <td>3.671272e+05</td>\n",
       "      <td>0.930062</td>\n",
       "      <td>0.770163</td>\n",
       "      <td>918.440897</td>\n",
       "      <td>0.539989</td>\n",
       "      <td>1.175459</td>\n",
       "      <td>29.373411</td>\n",
       "    </tr>\n",
       "    <tr>\n",
       "      <th>min</th>\n",
       "      <td>7.500000e+04</td>\n",
       "      <td>0.000000</td>\n",
       "      <td>0.000000</td>\n",
       "      <td>290.000000</td>\n",
       "      <td>1.000000</td>\n",
       "      <td>1.000000</td>\n",
       "      <td>1900.000000</td>\n",
       "    </tr>\n",
       "    <tr>\n",
       "      <th>25%</th>\n",
       "      <td>3.219500e+05</td>\n",
       "      <td>3.000000</td>\n",
       "      <td>1.750000</td>\n",
       "      <td>1427.000000</td>\n",
       "      <td>1.000000</td>\n",
       "      <td>7.000000</td>\n",
       "      <td>1951.000000</td>\n",
       "    </tr>\n",
       "    <tr>\n",
       "      <th>50%</th>\n",
       "      <td>4.500000e+05</td>\n",
       "      <td>3.000000</td>\n",
       "      <td>2.250000</td>\n",
       "      <td>1910.000000</td>\n",
       "      <td>1.500000</td>\n",
       "      <td>7.000000</td>\n",
       "      <td>1975.000000</td>\n",
       "    </tr>\n",
       "    <tr>\n",
       "      <th>75%</th>\n",
       "      <td>6.450000e+05</td>\n",
       "      <td>4.000000</td>\n",
       "      <td>2.500000</td>\n",
       "      <td>2550.000000</td>\n",
       "      <td>2.000000</td>\n",
       "      <td>8.000000</td>\n",
       "      <td>1997.000000</td>\n",
       "    </tr>\n",
       "    <tr>\n",
       "      <th>max</th>\n",
       "      <td>7.700000e+06</td>\n",
       "      <td>33.000000</td>\n",
       "      <td>8.000000</td>\n",
       "      <td>13540.000000</td>\n",
       "      <td>3.500000</td>\n",
       "      <td>13.000000</td>\n",
       "      <td>2015.000000</td>\n",
       "    </tr>\n",
       "  </tbody>\n",
       "</table>\n",
       "</div>"
      ],
      "text/plain": [
       "              price      bedrooms     bathrooms   sqft_living        floors  \\\n",
       "count  2.161300e+04  21613.000000  21613.000000  21613.000000  21613.000000   \n",
       "mean   5.400881e+05      3.370842      2.114757   2079.899736      1.494309   \n",
       "std    3.671272e+05      0.930062      0.770163    918.440897      0.539989   \n",
       "min    7.500000e+04      0.000000      0.000000    290.000000      1.000000   \n",
       "25%    3.219500e+05      3.000000      1.750000   1427.000000      1.000000   \n",
       "50%    4.500000e+05      3.000000      2.250000   1910.000000      1.500000   \n",
       "75%    6.450000e+05      4.000000      2.500000   2550.000000      2.000000   \n",
       "max    7.700000e+06     33.000000      8.000000  13540.000000      3.500000   \n",
       "\n",
       "              grade      yr_built  \n",
       "count  21613.000000  21613.000000  \n",
       "mean       7.656873   1971.005136  \n",
       "std        1.175459     29.373411  \n",
       "min        1.000000   1900.000000  \n",
       "25%        7.000000   1951.000000  \n",
       "50%        7.000000   1975.000000  \n",
       "75%        8.000000   1997.000000  \n",
       "max       13.000000   2015.000000  "
      ]
     },
     "execution_count": 89,
     "metadata": {},
     "output_type": "execute_result"
    }
   ],
   "source": [
    "data_no_mv = data.dropna(axis = 0)\n",
    "data_no_mv.describe(include = 'all')"
   ]
  },
  {
   "cell_type": "code",
   "execution_count": 90,
   "metadata": {},
   "outputs": [],
   "source": [
    "# mengganti tipe data menjadi int agar dapat dibaca ketika pembuatan chart.. dapat coba di hilangkan code ini jika\n",
    "# ingin melihat perbedaan pada chart bathrooms\n",
    "data['bathrooms'] = data['bathrooms'].astype('int')"
   ]
  },
  {
   "cell_type": "code",
   "execution_count": 91,
   "metadata": {},
   "outputs": [
    {
     "data": {
      "text/plain": [
       "<matplotlib.axes._subplots.AxesSubplot at 0x11b60310>"
      ]
     },
     "execution_count": 91,
     "metadata": {},
     "output_type": "execute_result"
    },
    {
     "data": {
      "image/png": "[encoded data removed]",
      "text/plain": [
       "<Figure size 432x288 with 1 Axes>"
      ]
     },
     "metadata": {},
     "output_type": "display_data"
    }
   ],
   "source": [
    "# merubah outlier pada bedrooms\n",
    "sns.distplot(data_no_mv['bedrooms'])"
   ]
  },
  {
   "cell_type": "code",
   "execution_count": 92,
   "metadata": {},
   "outputs": [
    {
     "data": {
      "text/html": [
       "<div>\n",
       "<style scoped>\n",
       "    .dataframe tbody tr th:only-of-type {\n",
       "        vertical-align: middle;\n",
       "    }\n",
       "\n",
       "    .dataframe tbody tr th {\n",
       "        vertical-align: top;\n",
       "    }\n",
       "\n",
       "    .dataframe thead th {\n",
       "        text-align: right;\n",
       "    }\n",
       "</style>\n",
       "<table border=\"1\" class=\"dataframe\">\n",
       "  <thead>\n",
       "    <tr style=\"text-align: right;\">\n",
       "      <th></th>\n",
       "      <th>price</th>\n",
       "      <th>bedrooms</th>\n",
       "      <th>bathrooms</th>\n",
       "      <th>sqft_living</th>\n",
       "      <th>floors</th>\n",
       "      <th>grade</th>\n",
       "      <th>yr_built</th>\n",
       "    </tr>\n",
       "  </thead>\n",
       "  <tbody>\n",
       "    <tr>\n",
       "      <th>count</th>\n",
       "      <td>2.127900e+04</td>\n",
       "      <td>21279.000000</td>\n",
       "      <td>21279.000000</td>\n",
       "      <td>21279.000000</td>\n",
       "      <td>21279.000000</td>\n",
       "      <td>21279.000000</td>\n",
       "      <td>21279.000000</td>\n",
       "    </tr>\n",
       "    <tr>\n",
       "      <th>mean</th>\n",
       "      <td>5.352174e+05</td>\n",
       "      <td>3.323652</td>\n",
       "      <td>2.098090</td>\n",
       "      <td>2059.341228</td>\n",
       "      <td>1.492128</td>\n",
       "      <td>7.649796</td>\n",
       "      <td>1971.146858</td>\n",
       "    </tr>\n",
       "    <tr>\n",
       "      <th>std</th>\n",
       "      <td>3.545496e+05</td>\n",
       "      <td>0.832024</td>\n",
       "      <td>0.751016</td>\n",
       "      <td>893.573061</td>\n",
       "      <td>0.539707</td>\n",
       "      <td>1.170378</td>\n",
       "      <td>29.340795</td>\n",
       "    </tr>\n",
       "    <tr>\n",
       "      <th>min</th>\n",
       "      <td>7.500000e+04</td>\n",
       "      <td>0.000000</td>\n",
       "      <td>0.000000</td>\n",
       "      <td>290.000000</td>\n",
       "      <td>1.000000</td>\n",
       "      <td>1.000000</td>\n",
       "      <td>1900.000000</td>\n",
       "    </tr>\n",
       "    <tr>\n",
       "      <th>25%</th>\n",
       "      <td>3.200000e+05</td>\n",
       "      <td>3.000000</td>\n",
       "      <td>1.500000</td>\n",
       "      <td>1420.000000</td>\n",
       "      <td>1.000000</td>\n",
       "      <td>7.000000</td>\n",
       "      <td>1951.000000</td>\n",
       "    </tr>\n",
       "    <tr>\n",
       "      <th>50%</th>\n",
       "      <td>4.500000e+05</td>\n",
       "      <td>3.000000</td>\n",
       "      <td>2.250000</td>\n",
       "      <td>1900.000000</td>\n",
       "      <td>1.500000</td>\n",
       "      <td>7.000000</td>\n",
       "      <td>1975.000000</td>\n",
       "    </tr>\n",
       "    <tr>\n",
       "      <th>75%</th>\n",
       "      <td>6.399000e+05</td>\n",
       "      <td>4.000000</td>\n",
       "      <td>2.500000</td>\n",
       "      <td>2520.000000</td>\n",
       "      <td>2.000000</td>\n",
       "      <td>8.000000</td>\n",
       "      <td>1997.000000</td>\n",
       "    </tr>\n",
       "    <tr>\n",
       "      <th>max</th>\n",
       "      <td>7.062500e+06</td>\n",
       "      <td>5.000000</td>\n",
       "      <td>6.750000</td>\n",
       "      <td>10040.000000</td>\n",
       "      <td>3.500000</td>\n",
       "      <td>13.000000</td>\n",
       "      <td>2015.000000</td>\n",
       "    </tr>\n",
       "  </tbody>\n",
       "</table>\n",
       "</div>"
      ],
      "text/plain": [
       "              price      bedrooms     bathrooms   sqft_living        floors  \\\n",
       "count  2.127900e+04  21279.000000  21279.000000  21279.000000  21279.000000   \n",
       "mean   5.352174e+05      3.323652      2.098090   2059.341228      1.492128   \n",
       "std    3.545496e+05      0.832024      0.751016    893.573061      0.539707   \n",
       "min    7.500000e+04      0.000000      0.000000    290.000000      1.000000   \n",
       "25%    3.200000e+05      3.000000      1.500000   1420.000000      1.000000   \n",
       "50%    4.500000e+05      3.000000      2.250000   1900.000000      1.500000   \n",
       "75%    6.399000e+05      4.000000      2.500000   2520.000000      2.000000   \n",
       "max    7.062500e+06      5.000000      6.750000  10040.000000      3.500000   \n",
       "\n",
       "              grade      yr_built  \n",
       "count  21279.000000  21279.000000  \n",
       "mean       7.649796   1971.146858  \n",
       "std        1.170378     29.340795  \n",
       "min        1.000000   1900.000000  \n",
       "25%        7.000000   1951.000000  \n",
       "50%        7.000000   1975.000000  \n",
       "75%        8.000000   1997.000000  \n",
       "max       13.000000   2015.000000  "
      ]
     },
     "execution_count": 92,
     "metadata": {},
     "output_type": "execute_result"
    }
   ],
   "source": [
    "q = data_no_mv['bedrooms'].quantile(0.99)\n",
    "data_1 = data_no_mv[data_no_mv['bedrooms']<q]\n",
    "data_1.describe(include = 'all')"
   ]
  },
  {
   "cell_type": "code",
   "execution_count": 93,
   "metadata": {},
   "outputs": [
    {
     "data": {
      "text/plain": [
       "price          0\n",
       "bedrooms       0\n",
       "bathrooms      0\n",
       "sqft_living    0\n",
       "floors         0\n",
       "grade          0\n",
       "yr_built       0\n",
       "dtype: int64"
      ]
     },
     "execution_count": 93,
     "metadata": {},
     "output_type": "execute_result"
    }
   ],
   "source": [
    "data.isnull().sum()"
   ]
  },
  {
   "cell_type": "markdown",
   "metadata": {},
   "source": [
    "# Exploratory Data Analyst "
   ]
  },
  {
   "cell_type": "code",
   "execution_count": 94,
   "metadata": {},
   "outputs": [
    {
     "data": {
      "text/html": [
       "<div>\n",
       "<style scoped>\n",
       "    .dataframe tbody tr th:only-of-type {\n",
       "        vertical-align: middle;\n",
       "    }\n",
       "\n",
       "    .dataframe tbody tr th {\n",
       "        vertical-align: top;\n",
       "    }\n",
       "\n",
       "    .dataframe thead th {\n",
       "        text-align: right;\n",
       "    }\n",
       "</style>\n",
       "<table border=\"1\" class=\"dataframe\">\n",
       "  <thead>\n",
       "    <tr style=\"text-align: right;\">\n",
       "      <th></th>\n",
       "      <th>price</th>\n",
       "      <th>bedrooms</th>\n",
       "      <th>bathrooms</th>\n",
       "      <th>sqft_living</th>\n",
       "      <th>floors</th>\n",
       "      <th>grade</th>\n",
       "      <th>yr_built</th>\n",
       "    </tr>\n",
       "  </thead>\n",
       "  <tbody>\n",
       "    <tr>\n",
       "      <th>0</th>\n",
       "      <td>221900</td>\n",
       "      <td>3</td>\n",
       "      <td>1</td>\n",
       "      <td>1180</td>\n",
       "      <td>1.0</td>\n",
       "      <td>7</td>\n",
       "      <td>1955</td>\n",
       "    </tr>\n",
       "    <tr>\n",
       "      <th>1</th>\n",
       "      <td>538000</td>\n",
       "      <td>3</td>\n",
       "      <td>2</td>\n",
       "      <td>2570</td>\n",
       "      <td>2.0</td>\n",
       "      <td>7</td>\n",
       "      <td>1951</td>\n",
       "    </tr>\n",
       "    <tr>\n",
       "      <th>2</th>\n",
       "      <td>180000</td>\n",
       "      <td>2</td>\n",
       "      <td>1</td>\n",
       "      <td>770</td>\n",
       "      <td>1.0</td>\n",
       "      <td>6</td>\n",
       "      <td>1933</td>\n",
       "    </tr>\n",
       "    <tr>\n",
       "      <th>3</th>\n",
       "      <td>604000</td>\n",
       "      <td>4</td>\n",
       "      <td>3</td>\n",
       "      <td>1960</td>\n",
       "      <td>1.0</td>\n",
       "      <td>7</td>\n",
       "      <td>1965</td>\n",
       "    </tr>\n",
       "    <tr>\n",
       "      <th>4</th>\n",
       "      <td>510000</td>\n",
       "      <td>3</td>\n",
       "      <td>2</td>\n",
       "      <td>1680</td>\n",
       "      <td>1.0</td>\n",
       "      <td>8</td>\n",
       "      <td>1987</td>\n",
       "    </tr>\n",
       "  </tbody>\n",
       "</table>\n",
       "</div>"
      ],
      "text/plain": [
       "    price  bedrooms  bathrooms  sqft_living  floors  grade  yr_built\n",
       "0  221900         3          1         1180     1.0      7      1955\n",
       "1  538000         3          2         2570     2.0      7      1951\n",
       "2  180000         2          1          770     1.0      6      1933\n",
       "3  604000         4          3         1960     1.0      7      1965\n",
       "4  510000         3          2         1680     1.0      8      1987"
      ]
     },
     "execution_count": 94,
     "metadata": {},
     "output_type": "execute_result"
    }
   ],
   "source": [
    "data.head()"
   ]
  },
  {
   "cell_type": "code",
   "execution_count": 95,
   "metadata": {},
   "outputs": [
    {
     "data": {
      "text/plain": [
       "<matplotlib.axes._subplots.AxesSubplot at 0x10216c70>"
      ]
     },
     "execution_count": 95,
     "metadata": {},
     "output_type": "execute_result"
    },
    {
     "data": {
      "image/png": "[encoded data removed]",
      "text/plain": [
       "<Figure size 720x288 with 1 Axes>"
      ]
     },
     "metadata": {},
     "output_type": "display_data"
    }
   ],
   "source": [
    "bdrms = data['bedrooms']\n",
    "bdrms = plt.figure(figsize= (10,4))\n",
    "\n",
    "bdrms.add_subplot(1,2,1)\n",
    "sns.countplot(data['bedrooms'])"
   ]
  },
  {
   "cell_type": "markdown",
   "metadata": {},
   "source": [
    "- Pada histogram diatas, menjelaskan bahwa kamar terbanyak yaitu sebanyak 3 hingga 4\n",
    "- Tidak terdapat rumah dengan 0 kamar"
   ]
  },
  {
   "cell_type": "code",
   "execution_count": 96,
   "metadata": {},
   "outputs": [
    {
     "data": {
      "text/plain": [
       "<matplotlib.axes._subplots.AxesSubplot at 0x1155b640>"
      ]
     },
     "execution_count": 96,
     "metadata": {},
     "output_type": "execute_result"
    },
    {
     "data": {
      "image/png": "[encoded data removed]",
      "text/plain": [
       "<Figure size 720x288 with 1 Axes>"
      ]
     },
     "metadata": {},
     "output_type": "display_data"
    }
   ],
   "source": [
    "bthrs = data['bathrooms']\n",
    "bthrs = plt.figure(figsize= (10,4))\n",
    "\n",
    "bthrs.add_subplot(1,2,1)\n",
    "sns.countplot(data['bathrooms'])"
   ]
  },
  {
   "cell_type": "markdown",
   "metadata": {},
   "source": [
    "- Jumlah kamar mandi paling banyak berada pada angka 1 dan 2.\n",
    "- Terdapat nilai outlier "
   ]
  },
  {
   "cell_type": "code",
   "execution_count": 107,
   "metadata": {},
   "outputs": [
    {
     "data": {
      "text/plain": [
       "<matplotlib.axes._subplots.AxesSubplot at 0x1194d250>"
      ]
     },
     "execution_count": 107,
     "metadata": {},
     "output_type": "execute_result"
    },
    {
     "data": {
      "image/png": "[encoded data removed]",
      "text/plain": [
       "<Figure size 720x288 with 1 Axes>"
      ]
     },
     "metadata": {},
     "output_type": "display_data"
    }
   ],
   "source": [
    "luas_tanah = plt.figure(figsize=(10,4))\n",
    "\n",
    "luas_tanah.add_subplot(1,2,1)\n",
    "data['sqft_living'].plot(kind='kde')"
   ]
  },
  {
   "cell_type": "markdown",
   "metadata": {},
   "source": [
    "- Density dari distribusi luas rumah terdapat pada range 0-5000 atau lebih tepatnya 2000an"
   ]
  },
  {
   "cell_type": "code",
   "execution_count": 98,
   "metadata": {},
   "outputs": [],
   "source": [
    "# ts = pd.Series(np.random.randn(1000),\n",
    "#                 index=pd.date_range('1/1/2000', periods=1000))\n",
    "\n",
    "\n",
    "# ts = ts.cumsum()\n",
    "# ts.plot()\n",
    "# data = pd.DataFrame(np.random.randn(1000, 4),\n",
    "#                 index=ts.index, columns=list('ABCD'))\n",
    "\n",
    "\n",
    "# data = data.cumsum()\n",
    "# plt.figure();\n",
    "# data.plot();"
   ]
  },
  {
   "cell_type": "code",
   "execution_count": 99,
   "metadata": {},
   "outputs": [
    {
     "data": {
      "text/plain": [
       "<matplotlib.axes._subplots.AxesSubplot at 0x115c0dc0>"
      ]
     },
     "execution_count": 99,
     "metadata": {},
     "output_type": "execute_result"
    },
    {
     "data": {
      "image/png": "[encoded data removed]",
      "text/plain": [
       "<Figure size 720x288 with 1 Axes>"
      ]
     },
     "metadata": {},
     "output_type": "display_data"
    }
   ],
   "source": [
    "flr = data['floors']\n",
    "flr = plt.figure(figsize= (10,4))\n",
    "\n",
    "flr.add_subplot(1,2,1)\n",
    "sns.countplot(data['floors'])"
   ]
  },
  {
   "cell_type": "markdown",
   "metadata": {},
   "source": [
    "- Banyak Rumah dengan Lantai 1 dan 2\n",
    "- Terdapat Outlier"
   ]
  },
  {
   "cell_type": "code",
   "execution_count": 112,
   "metadata": {},
   "outputs": [
    {
     "name": "stderr",
     "output_type": "stream",
     "text": [
      "<ipython-input-112-ebea9d4551a6>:4: MatplotlibDeprecationWarning: Adding an axes using the same arguments as a previous axes currently reuses the earlier instance.  In a future version, a new instance will always be created and returned.  Meanwhile, this warning can be suppressed, and the future behavior ensured, by passing a unique label to each axes instance.\n",
      "  flr.add_subplot(1,2,1)\n"
     ]
    },
    {
     "data": {
      "text/plain": [
       "<matplotlib.axes._subplots.AxesSubplot at 0x12447280>"
      ]
     },
     "execution_count": 112,
     "metadata": {},
     "output_type": "execute_result"
    },
    {
     "data": {
      "image/png": "[encoded data removed]",
      "text/plain": [
       "<Figure size 720x288 with 1 Axes>"
      ]
     },
     "metadata": {},
     "output_type": "display_data"
    }
   ],
   "source": [
    "grd = data['grade']\n",
    "grd = plt.figure(figsize= (10,4))\n",
    "\n",
    "flr.add_subplot(1,2,1)\n",
    "sns.countplot(data['grade'])"
   ]
  },
  {
   "cell_type": "markdown",
   "metadata": {},
   "source": [
    "- Sebagian besar rumah memiliki grade 7 dan 8\n",
    "- Masih terdapat outlier"
   ]
  },
  {
   "cell_type": "code",
   "execution_count": 110,
   "metadata": {},
   "outputs": [
    {
     "data": {
      "text/plain": [
       "<matplotlib.axes._subplots.AxesSubplot at 0x11460460>"
      ]
     },
     "execution_count": 110,
     "metadata": {},
     "output_type": "execute_result"
    },
    {
     "data": {
      "image/png": "[encoded data removed]",
      "text/plain": [
       "<Figure size 1440x576 with 1 Axes>"
      ]
     },
     "metadata": {},
     "output_type": "display_data"
    }
   ],
   "source": [
    "year = plt.figure(figsize=(20,8))\n",
    "\n",
    "year.add_subplot(1,2,1)\n",
    "sns.countplot(data['yr_built'])"
   ]
  },
  {
   "cell_type": "code",
   "execution_count": 126,
   "metadata": {},
   "outputs": [
    {
     "data": {
      "text/plain": [
       "<Figure size 864x720 with 0 Axes>"
      ]
     },
     "metadata": {},
     "output_type": "display_data"
    },
    {
     "data": {
      "image/png": "[encoded data removed]",
      "text/plain": [
       "<Figure size 1620x360 with 6 Axes>"
      ]
     },
     "metadata": {},
     "output_type": "display_data"
    }
   ],
   "source": [
    "#Bivariate analysis antara independent variable dan dependent variable\n",
    "#Melihat hubungan antara independent dan dependent\n",
    "#Menggunakan pairplot\n",
    "plt.figure(figsize=(12,10))\n",
    "sns.pairplot(data=data, x_vars=['bedrooms', 'bathrooms', 'sqft_living', 'grade', 'yr_built','floors'], y_vars=['price'], size=5, aspect=0.75)\n",
    "plt.show()"
   ]
  },
  {
   "cell_type": "markdown",
   "metadata": {},
   "source": [
    "# Build Machine Learning"
   ]
  },
  {
   "cell_type": "code",
   "execution_count": 132,
   "metadata": {},
   "outputs": [
    {
     "data": {
      "text/html": [
       "<style  type=\"text/css\" >\n",
       "    #T_5ded932a_1632_11eb_86d6_acb57d2b07a8row0_col0 {\n",
       "            background-color:  #023858;\n",
       "            color:  #f1f1f1;\n",
       "        }    #T_5ded932a_1632_11eb_86d6_acb57d2b07a8row0_col1 {\n",
       "            background-color:  #e0dded;\n",
       "            color:  #000000;\n",
       "        }    #T_5ded932a_1632_11eb_86d6_acb57d2b07a8row0_col2 {\n",
       "            background-color:  #eae6f1;\n",
       "            color:  #000000;\n",
       "        }    #T_5ded932a_1632_11eb_86d6_acb57d2b07a8row0_col3 {\n",
       "            background-color:  #549cc7;\n",
       "            color:  #000000;\n",
       "        }    #T_5ded932a_1632_11eb_86d6_acb57d2b07a8row0_col4 {\n",
       "            background-color:  #f0eaf4;\n",
       "            color:  #000000;\n",
       "        }    #T_5ded932a_1632_11eb_86d6_acb57d2b07a8row0_col5 {\n",
       "            background-color:  #7bacd1;\n",
       "            color:  #000000;\n",
       "        }    #T_5ded932a_1632_11eb_86d6_acb57d2b07a8row0_col6 {\n",
       "            background-color:  #fff7fb;\n",
       "            color:  #000000;\n",
       "        }    #T_5ded932a_1632_11eb_86d6_acb57d2b07a8row1_col0 {\n",
       "            background-color:  #cacee5;\n",
       "            color:  #000000;\n",
       "        }    #T_5ded932a_1632_11eb_86d6_acb57d2b07a8row1_col1 {\n",
       "            background-color:  #023858;\n",
       "            color:  #f1f1f1;\n",
       "        }    #T_5ded932a_1632_11eb_86d6_acb57d2b07a8row1_col2 {\n",
       "            background-color:  #f6eff7;\n",
       "            color:  #000000;\n",
       "        }    #T_5ded932a_1632_11eb_86d6_acb57d2b07a8row1_col3 {\n",
       "            background-color:  #a4bcda;\n",
       "            color:  #000000;\n",
       "        }    #T_5ded932a_1632_11eb_86d6_acb57d2b07a8row1_col4 {\n",
       "            background-color:  #fff7fb;\n",
       "            color:  #000000;\n",
       "        }    #T_5ded932a_1632_11eb_86d6_acb57d2b07a8row1_col5 {\n",
       "            background-color:  #fff7fb;\n",
       "            color:  #000000;\n",
       "        }    #T_5ded932a_1632_11eb_86d6_acb57d2b07a8row1_col6 {\n",
       "            background-color:  #efe9f3;\n",
       "            color:  #000000;\n",
       "        }    #T_5ded932a_1632_11eb_86d6_acb57d2b07a8row2_col0 {\n",
       "            background-color:  #7bacd1;\n",
       "            color:  #000000;\n",
       "        }    #T_5ded932a_1632_11eb_86d6_acb57d2b07a8row2_col1 {\n",
       "            background-color:  #a8bedc;\n",
       "            color:  #000000;\n",
       "        }    #T_5ded932a_1632_11eb_86d6_acb57d2b07a8row2_col2 {\n",
       "            background-color:  #023858;\n",
       "            color:  #f1f1f1;\n",
       "        }    #T_5ded932a_1632_11eb_86d6_acb57d2b07a8row2_col3 {\n",
       "            background-color:  #589ec8;\n",
       "            color:  #000000;\n",
       "        }    #T_5ded932a_1632_11eb_86d6_acb57d2b07a8row2_col4 {\n",
       "            background-color:  #abbfdc;\n",
       "            color:  #000000;\n",
       "        }    #T_5ded932a_1632_11eb_86d6_acb57d2b07a8row2_col5 {\n",
       "            background-color:  #a1bbda;\n",
       "            color:  #000000;\n",
       "        }    #T_5ded932a_1632_11eb_86d6_acb57d2b07a8row2_col6 {\n",
       "            background-color:  #9cb9d9;\n",
       "            color:  #000000;\n",
       "        }    #T_5ded932a_1632_11eb_86d6_acb57d2b07a8row3_col0 {\n",
       "            background-color:  #1e80b8;\n",
       "            color:  #000000;\n",
       "        }    #T_5ded932a_1632_11eb_86d6_acb57d2b07a8row3_col1 {\n",
       "            background-color:  #75a9cf;\n",
       "            color:  #000000;\n",
       "        }    #T_5ded932a_1632_11eb_86d6_acb57d2b07a8row3_col2 {\n",
       "            background-color:  #81aed2;\n",
       "            color:  #000000;\n",
       "        }    #T_5ded932a_1632_11eb_86d6_acb57d2b07a8row3_col3 {\n",
       "            background-color:  #023858;\n",
       "            color:  #f1f1f1;\n",
       "        }    #T_5ded932a_1632_11eb_86d6_acb57d2b07a8row3_col4 {\n",
       "            background-color:  #d8d7e9;\n",
       "            color:  #000000;\n",
       "        }    #T_5ded932a_1632_11eb_86d6_acb57d2b07a8row3_col5 {\n",
       "            background-color:  #348ebf;\n",
       "            color:  #000000;\n",
       "        }    #T_5ded932a_1632_11eb_86d6_acb57d2b07a8row3_col6 {\n",
       "            background-color:  #c6cce3;\n",
       "            color:  #000000;\n",
       "        }    #T_5ded932a_1632_11eb_86d6_acb57d2b07a8row4_col0 {\n",
       "            background-color:  #d9d8ea;\n",
       "            color:  #000000;\n",
       "        }    #T_5ded932a_1632_11eb_86d6_acb57d2b07a8row4_col1 {\n",
       "            background-color:  #fbf4f9;\n",
       "            color:  #000000;\n",
       "        }    #T_5ded932a_1632_11eb_86d6_acb57d2b07a8row4_col2 {\n",
       "            background-color:  #f4eef6;\n",
       "            color:  #000000;\n",
       "        }    #T_5ded932a_1632_11eb_86d6_acb57d2b07a8row4_col3 {\n",
       "            background-color:  #f7f0f7;\n",
       "            color:  #000000;\n",
       "        }    #T_5ded932a_1632_11eb_86d6_acb57d2b07a8row4_col4 {\n",
       "            background-color:  #023858;\n",
       "            color:  #f1f1f1;\n",
       "        }    #T_5ded932a_1632_11eb_86d6_acb57d2b07a8row4_col5 {\n",
       "            background-color:  #e5e1ef;\n",
       "            color:  #000000;\n",
       "        }    #T_5ded932a_1632_11eb_86d6_acb57d2b07a8row4_col6 {\n",
       "            background-color:  #84b0d3;\n",
       "            color:  #000000;\n",
       "        }    #T_5ded932a_1632_11eb_86d6_acb57d2b07a8row5_col0 {\n",
       "            background-color:  #2c89bd;\n",
       "            color:  #000000;\n",
       "        }    #T_5ded932a_1632_11eb_86d6_acb57d2b07a8row5_col1 {\n",
       "            background-color:  #d2d3e7;\n",
       "            color:  #000000;\n",
       "        }    #T_5ded932a_1632_11eb_86d6_acb57d2b07a8row5_col2 {\n",
       "            background-color:  #bdc8e1;\n",
       "            color:  #000000;\n",
       "        }    #T_5ded932a_1632_11eb_86d6_acb57d2b07a8row5_col3 {\n",
       "            background-color:  #2c89bd;\n",
       "            color:  #000000;\n",
       "        }    #T_5ded932a_1632_11eb_86d6_acb57d2b07a8row5_col4 {\n",
       "            background-color:  #b1c2de;\n",
       "            color:  #000000;\n",
       "        }    #T_5ded932a_1632_11eb_86d6_acb57d2b07a8row5_col5 {\n",
       "            background-color:  #023858;\n",
       "            color:  #f1f1f1;\n",
       "        }    #T_5ded932a_1632_11eb_86d6_acb57d2b07a8row5_col6 {\n",
       "            background-color:  #96b6d7;\n",
       "            color:  #000000;\n",
       "        }    #T_5ded932a_1632_11eb_86d6_acb57d2b07a8row6_col0 {\n",
       "            background-color:  #fff7fb;\n",
       "            color:  #000000;\n",
       "        }    #T_5ded932a_1632_11eb_86d6_acb57d2b07a8row6_col1 {\n",
       "            background-color:  #fff7fb;\n",
       "            color:  #000000;\n",
       "        }    #T_5ded932a_1632_11eb_86d6_acb57d2b07a8row6_col2 {\n",
       "            background-color:  #fff7fb;\n",
       "            color:  #000000;\n",
       "        }    #T_5ded932a_1632_11eb_86d6_acb57d2b07a8row6_col3 {\n",
       "            background-color:  #fff7fb;\n",
       "            color:  #000000;\n",
       "        }    #T_5ded932a_1632_11eb_86d6_acb57d2b07a8row6_col4 {\n",
       "            background-color:  #a4bcda;\n",
       "            color:  #000000;\n",
       "        }    #T_5ded932a_1632_11eb_86d6_acb57d2b07a8row6_col5 {\n",
       "            background-color:  #e9e5f1;\n",
       "            color:  #000000;\n",
       "        }    #T_5ded932a_1632_11eb_86d6_acb57d2b07a8row6_col6 {\n",
       "            background-color:  #023858;\n",
       "            color:  #f1f1f1;\n",
       "        }</style><table id=\"T_5ded932a_1632_11eb_86d6_acb57d2b07a8\" ><thead>    <tr>        <th class=\"blank level0\" ></th>        <th class=\"col_heading level0 col0\" >price</th>        <th class=\"col_heading level0 col1\" >bedrooms</th>        <th class=\"col_heading level0 col2\" >bathrooms</th>        <th class=\"col_heading level0 col3\" >sqft_living</th>        <th class=\"col_heading level0 col4\" >floors</th>        <th class=\"col_heading level0 col5\" >grade</th>        <th class=\"col_heading level0 col6\" >yr_built</th>    </tr></thead><tbody>\n",
       "                <tr>\n",
       "                        <th id=\"T_5ded932a_1632_11eb_86d6_acb57d2b07a8level0_row0\" class=\"row_heading level0 row0\" >price</th>\n",
       "                        <td id=\"T_5ded932a_1632_11eb_86d6_acb57d2b07a8row0_col0\" class=\"data row0 col0\" >1.000</td>\n",
       "                        <td id=\"T_5ded932a_1632_11eb_86d6_acb57d2b07a8row0_col1\" class=\"data row0 col1\" >0.308</td>\n",
       "                        <td id=\"T_5ded932a_1632_11eb_86d6_acb57d2b07a8row0_col2\" class=\"data row0 col2\" >0.510</td>\n",
       "                        <td id=\"T_5ded932a_1632_11eb_86d6_acb57d2b07a8row0_col3\" class=\"data row0 col3\" >0.702</td>\n",
       "                        <td id=\"T_5ded932a_1632_11eb_86d6_acb57d2b07a8row0_col4\" class=\"data row0 col4\" >0.257</td>\n",
       "                        <td id=\"T_5ded932a_1632_11eb_86d6_acb57d2b07a8row0_col5\" class=\"data row0 col5\" >0.667</td>\n",
       "                        <td id=\"T_5ded932a_1632_11eb_86d6_acb57d2b07a8row0_col6\" class=\"data row0 col6\" >0.054</td>\n",
       "            </tr>\n",
       "            <tr>\n",
       "                        <th id=\"T_5ded932a_1632_11eb_86d6_acb57d2b07a8level0_row1\" class=\"row_heading level0 row1\" >bedrooms</th>\n",
       "                        <td id=\"T_5ded932a_1632_11eb_86d6_acb57d2b07a8row1_col0\" class=\"data row1 col0\" >0.308</td>\n",
       "                        <td id=\"T_5ded932a_1632_11eb_86d6_acb57d2b07a8row1_col1\" class=\"data row1 col1\" >1.000</td>\n",
       "                        <td id=\"T_5ded932a_1632_11eb_86d6_acb57d2b07a8row1_col2\" class=\"data row1 col2\" >0.467</td>\n",
       "                        <td id=\"T_5ded932a_1632_11eb_86d6_acb57d2b07a8row1_col3\" class=\"data row1 col3\" >0.577</td>\n",
       "                        <td id=\"T_5ded932a_1632_11eb_86d6_acb57d2b07a8row1_col4\" class=\"data row1 col4\" >0.175</td>\n",
       "                        <td id=\"T_5ded932a_1632_11eb_86d6_acb57d2b07a8row1_col5\" class=\"data row1 col5\" >0.357</td>\n",
       "                        <td id=\"T_5ded932a_1632_11eb_86d6_acb57d2b07a8row1_col6\" class=\"data row1 col6\" >0.154</td>\n",
       "            </tr>\n",
       "            <tr>\n",
       "                        <th id=\"T_5ded932a_1632_11eb_86d6_acb57d2b07a8level0_row2\" class=\"row_heading level0 row2\" >bathrooms</th>\n",
       "                        <td id=\"T_5ded932a_1632_11eb_86d6_acb57d2b07a8row2_col0\" class=\"data row2 col0\" >0.510</td>\n",
       "                        <td id=\"T_5ded932a_1632_11eb_86d6_acb57d2b07a8row2_col1\" class=\"data row2 col1\" >0.467</td>\n",
       "                        <td id=\"T_5ded932a_1632_11eb_86d6_acb57d2b07a8row2_col2\" class=\"data row2 col2\" >1.000</td>\n",
       "                        <td id=\"T_5ded932a_1632_11eb_86d6_acb57d2b07a8row2_col3\" class=\"data row2 col3\" >0.698</td>\n",
       "                        <td id=\"T_5ded932a_1632_11eb_86d6_acb57d2b07a8row2_col4\" class=\"data row2 col4\" >0.474</td>\n",
       "                        <td id=\"T_5ded932a_1632_11eb_86d6_acb57d2b07a8row2_col5\" class=\"data row2 col5\" >0.607</td>\n",
       "                        <td id=\"T_5ded932a_1632_11eb_86d6_acb57d2b07a8row2_col6\" class=\"data row2 col6\" >0.434</td>\n",
       "            </tr>\n",
       "            <tr>\n",
       "                        <th id=\"T_5ded932a_1632_11eb_86d6_acb57d2b07a8level0_row3\" class=\"row_heading level0 row3\" >sqft_living</th>\n",
       "                        <td id=\"T_5ded932a_1632_11eb_86d6_acb57d2b07a8row3_col0\" class=\"data row3 col0\" >0.702</td>\n",
       "                        <td id=\"T_5ded932a_1632_11eb_86d6_acb57d2b07a8row3_col1\" class=\"data row3 col1\" >0.577</td>\n",
       "                        <td id=\"T_5ded932a_1632_11eb_86d6_acb57d2b07a8row3_col2\" class=\"data row3 col2\" >0.698</td>\n",
       "                        <td id=\"T_5ded932a_1632_11eb_86d6_acb57d2b07a8row3_col3\" class=\"data row3 col3\" >1.000</td>\n",
       "                        <td id=\"T_5ded932a_1632_11eb_86d6_acb57d2b07a8row3_col4\" class=\"data row3 col4\" >0.354</td>\n",
       "                        <td id=\"T_5ded932a_1632_11eb_86d6_acb57d2b07a8row3_col5\" class=\"data row3 col5\" >0.763</td>\n",
       "                        <td id=\"T_5ded932a_1632_11eb_86d6_acb57d2b07a8row3_col6\" class=\"data row3 col6\" >0.318</td>\n",
       "            </tr>\n",
       "            <tr>\n",
       "                        <th id=\"T_5ded932a_1632_11eb_86d6_acb57d2b07a8level0_row4\" class=\"row_heading level0 row4\" >floors</th>\n",
       "                        <td id=\"T_5ded932a_1632_11eb_86d6_acb57d2b07a8row4_col0\" class=\"data row4 col0\" >0.257</td>\n",
       "                        <td id=\"T_5ded932a_1632_11eb_86d6_acb57d2b07a8row4_col1\" class=\"data row4 col1\" >0.175</td>\n",
       "                        <td id=\"T_5ded932a_1632_11eb_86d6_acb57d2b07a8row4_col2\" class=\"data row4 col2\" >0.474</td>\n",
       "                        <td id=\"T_5ded932a_1632_11eb_86d6_acb57d2b07a8row4_col3\" class=\"data row4 col3\" >0.354</td>\n",
       "                        <td id=\"T_5ded932a_1632_11eb_86d6_acb57d2b07a8row4_col4\" class=\"data row4 col4\" >1.000</td>\n",
       "                        <td id=\"T_5ded932a_1632_11eb_86d6_acb57d2b07a8row4_col5\" class=\"data row4 col5\" >0.458</td>\n",
       "                        <td id=\"T_5ded932a_1632_11eb_86d6_acb57d2b07a8row4_col6\" class=\"data row4 col6\" >0.489</td>\n",
       "            </tr>\n",
       "            <tr>\n",
       "                        <th id=\"T_5ded932a_1632_11eb_86d6_acb57d2b07a8level0_row5\" class=\"row_heading level0 row5\" >grade</th>\n",
       "                        <td id=\"T_5ded932a_1632_11eb_86d6_acb57d2b07a8row5_col0\" class=\"data row5 col0\" >0.667</td>\n",
       "                        <td id=\"T_5ded932a_1632_11eb_86d6_acb57d2b07a8row5_col1\" class=\"data row5 col1\" >0.357</td>\n",
       "                        <td id=\"T_5ded932a_1632_11eb_86d6_acb57d2b07a8row5_col2\" class=\"data row5 col2\" >0.607</td>\n",
       "                        <td id=\"T_5ded932a_1632_11eb_86d6_acb57d2b07a8row5_col3\" class=\"data row5 col3\" >0.763</td>\n",
       "                        <td id=\"T_5ded932a_1632_11eb_86d6_acb57d2b07a8row5_col4\" class=\"data row5 col4\" >0.458</td>\n",
       "                        <td id=\"T_5ded932a_1632_11eb_86d6_acb57d2b07a8row5_col5\" class=\"data row5 col5\" >1.000</td>\n",
       "                        <td id=\"T_5ded932a_1632_11eb_86d6_acb57d2b07a8row5_col6\" class=\"data row5 col6\" >0.447</td>\n",
       "            </tr>\n",
       "            <tr>\n",
       "                        <th id=\"T_5ded932a_1632_11eb_86d6_acb57d2b07a8level0_row6\" class=\"row_heading level0 row6\" >yr_built</th>\n",
       "                        <td id=\"T_5ded932a_1632_11eb_86d6_acb57d2b07a8row6_col0\" class=\"data row6 col0\" >0.054</td>\n",
       "                        <td id=\"T_5ded932a_1632_11eb_86d6_acb57d2b07a8row6_col1\" class=\"data row6 col1\" >0.154</td>\n",
       "                        <td id=\"T_5ded932a_1632_11eb_86d6_acb57d2b07a8row6_col2\" class=\"data row6 col2\" >0.434</td>\n",
       "                        <td id=\"T_5ded932a_1632_11eb_86d6_acb57d2b07a8row6_col3\" class=\"data row6 col3\" >0.318</td>\n",
       "                        <td id=\"T_5ded932a_1632_11eb_86d6_acb57d2b07a8row6_col4\" class=\"data row6 col4\" >0.489</td>\n",
       "                        <td id=\"T_5ded932a_1632_11eb_86d6_acb57d2b07a8row6_col5\" class=\"data row6 col5\" >0.447</td>\n",
       "                        <td id=\"T_5ded932a_1632_11eb_86d6_acb57d2b07a8row6_col6\" class=\"data row6 col6\" >1.000</td>\n",
       "            </tr>\n",
       "    </tbody></table>"
      ],
      "text/plain": [
       "<pandas.io.formats.style.Styler at 0x1222fa60>"
      ]
     },
     "execution_count": 132,
     "metadata": {},
     "output_type": "execute_result"
    }
   ],
   "source": [
    "# Mencari nilai korelasi dari independent dan dependent variable\n",
    "# set_precision merupakan ketepatan angka dalam desimal\n",
    "data.corr().style.background_gradient().set_precision(3)"
   ]
  },
  {
   "cell_type": "code",
   "execution_count": 134,
   "metadata": {},
   "outputs": [],
   "source": [
    "# deklarasi variabel x dan y\n",
    "x = data.drop(columns='price')\n",
    "y = data['price']"
   ]
  },
  {
   "cell_type": "code",
   "execution_count": 154,
   "metadata": {},
   "outputs": [],
   "source": [
    "# As you can see from the code, we have split the dataset in a 80–20 ratio, which is a common practice in data science\n",
    "x_train, x_test, y_train, y_test = train_test_split(x, y, test_size=0.2, random_state=4)"
   ]
  },
  {
   "cell_type": "code",
   "execution_count": 155,
   "metadata": {},
   "outputs": [
    {
     "name": "stdout",
     "output_type": "stream",
     "text": [
      "(17290, 6)\n",
      "(17290,)\n",
      "(4323, 6)\n",
      "(4323,)\n"
     ]
    }
   ],
   "source": [
    "#Cek shape dari data training dan testing\n",
    "print(x_train.shape)\n",
    "print(y_train.shape)\n",
    "print(x_test.shape)\n",
    "print(y_test.shape)"
   ]
  },
  {
   "cell_type": "code",
   "execution_count": 156,
   "metadata": {},
   "outputs": [],
   "source": [
    "lin_reg = LinearRegression()"
   ]
  },
  {
   "cell_type": "code",
   "execution_count": 157,
   "metadata": {},
   "outputs": [
    {
     "data": {
      "text/plain": [
       "LinearRegression()"
      ]
     },
     "execution_count": 157,
     "metadata": {},
     "output_type": "execute_result"
    }
   ],
   "source": [
    "lin_reg.fit(x_train, y_train)"
   ]
  },
  {
   "cell_type": "code",
   "execution_count": 158,
   "metadata": {},
   "outputs": [
    {
     "name": "stdout",
     "output_type": "stream",
     "text": [
      "[-47209.13667768  59585.55646343    186.58674528  17545.1827624\n",
      " 130229.82763292  -4061.37403249]\n",
      "7188548.593964215\n"
     ]
    }
   ],
   "source": [
    "# slope/koefisien (m) dan intercept (b)\n",
    "print(lin_reg.coef_)\n",
    "print(lin_reg.intercept_)"
   ]
  },
  {
   "cell_type": "code",
   "execution_count": 160,
   "metadata": {},
   "outputs": [
    {
     "data": {
      "text/html": [
       "<div>\n",
       "<style scoped>\n",
       "    .dataframe tbody tr th:only-of-type {\n",
       "        vertical-align: middle;\n",
       "    }\n",
       "\n",
       "    .dataframe tbody tr th {\n",
       "        vertical-align: top;\n",
       "    }\n",
       "\n",
       "    .dataframe thead th {\n",
       "        text-align: right;\n",
       "    }\n",
       "</style>\n",
       "<table border=\"1\" class=\"dataframe\">\n",
       "  <thead>\n",
       "    <tr style=\"text-align: right;\">\n",
       "      <th></th>\n",
       "      <th>Features</th>\n",
       "      <th>Coefficient</th>\n",
       "    </tr>\n",
       "  </thead>\n",
       "  <tbody>\n",
       "    <tr>\n",
       "      <th>0</th>\n",
       "      <td>bedrooms</td>\n",
       "      <td>-47209.136678</td>\n",
       "    </tr>\n",
       "    <tr>\n",
       "      <th>1</th>\n",
       "      <td>bathrooms</td>\n",
       "      <td>59585.556463</td>\n",
       "    </tr>\n",
       "    <tr>\n",
       "      <th>2</th>\n",
       "      <td>sqft_living</td>\n",
       "      <td>186.586745</td>\n",
       "    </tr>\n",
       "    <tr>\n",
       "      <th>3</th>\n",
       "      <td>floors</td>\n",
       "      <td>17545.182762</td>\n",
       "    </tr>\n",
       "    <tr>\n",
       "      <th>4</th>\n",
       "      <td>grade</td>\n",
       "      <td>130229.827633</td>\n",
       "    </tr>\n",
       "    <tr>\n",
       "      <th>5</th>\n",
       "      <td>yr_built</td>\n",
       "      <td>-4061.374032</td>\n",
       "    </tr>\n",
       "  </tbody>\n",
       "</table>\n",
       "</div>"
      ],
      "text/plain": [
       "      Features    Coefficient\n",
       "0     bedrooms  -47209.136678\n",
       "1    bathrooms   59585.556463\n",
       "2  sqft_living     186.586745\n",
       "3       floors   17545.182762\n",
       "4        grade  130229.827633\n",
       "5     yr_built   -4061.374032"
      ]
     },
     "execution_count": 160,
     "metadata": {},
     "output_type": "execute_result"
    }
   ],
   "source": [
    "coef_dict = {\n",
    "    'Features': x.columns,\n",
    "    'Coefficient':lin_reg.coef_\n",
    "}\n",
    "coef = pd.DataFrame(coef_dict, columns=['Features', 'Coefficient'])\n",
    "coef"
   ]
  },
  {
   "cell_type": "code",
   "execution_count": 144,
   "metadata": {},
   "outputs": [],
   "source": [
    "y_pred = lin_reg.predict(x_test)"
   ]
  },
  {
   "cell_type": "code",
   "execution_count": 161,
   "metadata": {},
   "outputs": [
    {
     "data": {
      "text/plain": [
       "0.6132913818599679"
      ]
     },
     "execution_count": 161,
     "metadata": {},
     "output_type": "execute_result"
    }
   ],
   "source": [
    "# Accuracy score dari model menggunakan testing data yang telah displit\n",
    "lin_reg.score(x_test, y_test)"
   ]
  },
  {
   "cell_type": "markdown",
   "metadata": {},
   "source": [
    "# Prediction\n",
    "Kembali sesuai dengan permintaan diawal, memprediksi harga rumah sesuai dengan kriteria\n",
    "- kamar tidur 4\n",
    "- bathrooms 3\n",
    "- luas 2570\n",
    "- 2 lantai\n",
    "- grade 8\n",
    "- tahun 2005"
   ]
  },
  {
   "cell_type": "code",
   "execution_count": 166,
   "metadata": {},
   "outputs": [
    {
     "data": {
      "text/plain": [
       "array([591870.70345776])"
      ]
     },
     "execution_count": 166,
     "metadata": {},
     "output_type": "execute_result"
    }
   ],
   "source": [
    "lin_reg.predict([[4,3,2570,2,8,2005]])"
   ]
  },
  {
   "cell_type": "markdown",
   "metadata": {},
   "source": [
    "Prediksi harga rumah sekitar 591.870$ dengan 4kamar tidur, 3bathrooms, luas 2570, 2lantai, grade 8 dan tahun 2005"
   ]
  }
 ],
 "metadata": {
  "kernelspec": {
   "display_name": "Python 3",
   "language": "python",
   "name": "python3"
  },
  "language_info": {
   "codemirror_mode": {
    "name": "ipython",
    "version": 3
   },
   "file_extension": ".py",
   "mimetype": "text/x-python",
   "name": "python",
   "nbconvert_exporter": "python",
   "pygments_lexer": "ipython3",
   "version": "3.8.3"
  }
 },
 "nbformat": 4,
 "nbformat_minor": 4
}
